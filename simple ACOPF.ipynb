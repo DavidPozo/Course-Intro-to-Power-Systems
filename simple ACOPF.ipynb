{
 "cells": [
  {
   "cell_type": "markdown",
   "metadata": {},
   "source": [
    "## Simple AC-OPF: 3-bus case study\n",
    "David Pozo"
   ]
  },
  {
   "cell_type": "code",
   "execution_count": 1,
   "metadata": {},
   "outputs": [],
   "source": [
    "using JuMP\n",
    "using Ipopt"
   ]
  },
  {
   "cell_type": "markdown",
   "metadata": {},
   "source": [
    "###  Data definition"
   ]
  },
  {
   "cell_type": "code",
   "execution_count": 2,
   "metadata": {},
   "outputs": [],
   "source": [
    "# Ybus\n",
    "zL = 0.01 + 0.1im;\n",
    "Ybus = ones(3,3)*(-1/zL);  # off-diagonal elements\n",
    "Ybus[1,1] = 2*(1/zL);  # diagonal elements\n",
    "Ybus[2,2] = 2*(1/zL);  # diagonal elements\n",
    "Ybus[3,3] = 2*(1/zL);  # diagonal elements\n",
    "\n",
    "Gbus = real(Ybus);\n",
    "Bbus = imag(Ybus);"
   ]
  },
  {
   "cell_type": "code",
   "execution_count": 3,
   "metadata": {},
   "outputs": [],
   "source": [
    "# Generator limits\n",
    "Pmin = [0,0];\n",
    "Pmax = [3, 0.8];\n",
    "Qmin = [-2, -2];\n",
    "Qmax = [2, 2];\n",
    "\n",
    "# Generation costs\n",
    "c = [2,1];"
   ]
  },
  {
   "cell_type": "code",
   "execution_count": 4,
   "metadata": {},
   "outputs": [],
   "source": [
    "# Line limits\n",
    "SLmax = [0.25, 2, 2];\n"
   ]
  },
  {
   "cell_type": "code",
   "execution_count": 5,
   "metadata": {},
   "outputs": [],
   "source": [
    "# Voltage limits\n",
    "Vmin = 0.95;\n",
    "Vmax = 1.10;"
   ]
  },
  {
   "cell_type": "code",
   "execution_count": 6,
   "metadata": {},
   "outputs": [],
   "source": [
    "# Demand\n",
    "Pd = 0.8;\n",
    "Qd = 0.6;"
   ]
  },
  {
   "cell_type": "markdown",
   "metadata": {},
   "source": [
    "### Model definition"
   ]
  },
  {
   "cell_type": "code",
   "execution_count": 7,
   "metadata": {},
   "outputs": [],
   "source": [
    "m = Model(solver = IpoptSolver());"
   ]
  },
  {
   "cell_type": "code",
   "execution_count": 8,
   "metadata": {},
   "outputs": [
    {
     "data": {
      "text/latex": [
       "$$ θ_{i} \\quad\\forall i \\in \\{1,2,3\\} $$"
      ],
      "text/plain": [
       "3-element Array{JuMP.Variable,1}:\n",
       " θ[1]\n",
       " θ[2]\n",
       " θ[3]"
      ]
     },
     "execution_count": 8,
     "metadata": {},
     "output_type": "execute_result"
    }
   ],
   "source": [
    "@variable(m, p[1:2])\n",
    "@variable(m, q[1:2])\n",
    "@variable(m, pl[1:3,1:3])\n",
    "@variable(m, ql[1:3,1:3])\n",
    "@variable(m, v[1:3])\n",
    "@variable(m, θ[1:3])"
   ]
  },
  {
   "cell_type": "code",
   "execution_count": 9,
   "metadata": {},
   "outputs": [],
   "source": [
    "# Nodal balance equation\n",
    "@constraint(m, p[1]  == pl[1,2] + pl[1,3]);\n",
    "@constraint(m, p[2]  == pl[2,1] + pl[2,3]);\n",
    "@constraint(m, - Pd  == pl[3,1] + pl[3,2]);\n",
    "\n",
    "@constraint(m, q[1]  == ql[1,2] + ql[1,3]);\n",
    "@constraint(m, q[2]  == ql[2,1] + ql[2,3]);\n",
    "@constraint(m, - Qd  == ql[3,1] + ql[3,2]);"
   ]
  },
  {
   "cell_type": "code",
   "execution_count": 10,
   "metadata": {},
   "outputs": [],
   "source": [
    "# Branch power flow definition\n",
    "@NLconstraint(m, pl[1,2] == -(v[1]^2)*Gbus[1,2] + v[1]*v[2]*(Gbus[1,2]*cos(θ[1]-θ[2]) +  Bbus[1,2]*sin(θ[1]-θ[2])));\n",
    "@NLconstraint(m, pl[1,3] == -(v[1]^2)*Gbus[1,3] + v[1]*v[3]*(Gbus[1,3]*cos(θ[1]-θ[3]) +  Bbus[1,3]*sin(θ[1]-θ[3])));\n",
    "@NLconstraint(m, pl[2,1] == -(v[2]^2)*Gbus[2,1] + v[2]*v[1]*(Gbus[2,1]*cos(θ[2]-θ[1]) +  Bbus[2,1]*sin(θ[2]-θ[1])));\n",
    "@NLconstraint(m, pl[2,3] == -(v[2]^2)*Gbus[2,3] + v[2]*v[3]*(Gbus[2,3]*cos(θ[2]-θ[3]) +  Bbus[2,3]*sin(θ[2]-θ[3])));\n",
    "@NLconstraint(m, pl[3,1] == -(v[3]^2)*Gbus[3,1] + v[3]*v[1]*(Gbus[3,1]*cos(θ[3]-θ[1]) +  Bbus[3,1]*sin(θ[3]-θ[1])));\n",
    "@NLconstraint(m, pl[3,2] == -(v[3]^2)*Gbus[3,2] + v[3]*v[2]*(Gbus[3,2]*cos(θ[3]-θ[2]) +  Bbus[3,2]*sin(θ[3]-θ[2])));\n",
    "\n",
    "@NLconstraint(m, ql[1,2] == (v[1]^2)*Bbus[1,2] + v[1]*v[2]*(Gbus[1,2]*sin(θ[1]-θ[2]) -  Bbus[1,2]*cos(θ[1]-θ[2])));\n",
    "@NLconstraint(m, ql[1,3] == (v[1]^2)*Bbus[1,3] + v[1]*v[3]*(Gbus[1,3]*sin(θ[1]-θ[3]) -  Bbus[1,3]*cos(θ[1]-θ[3])));\n",
    "@NLconstraint(m, ql[2,1] == (v[2]^2)*Bbus[2,1] + v[2]*v[1]*(Gbus[2,1]*sin(θ[2]-θ[1]) -  Bbus[2,1]*cos(θ[2]-θ[1])));\n",
    "@NLconstraint(m, ql[2,3] == (v[2]^2)*Bbus[2,3] + v[2]*v[3]*(Gbus[2,3]*sin(θ[2]-θ[3]) -  Bbus[2,3]*cos(θ[2]-θ[3])));\n",
    "@NLconstraint(m, ql[3,1] == (v[3]^2)*Bbus[3,1] + v[3]*v[1]*(Gbus[3,1]*sin(θ[3]-θ[1]) -  Bbus[3,1]*cos(θ[3]-θ[1])));\n",
    "@NLconstraint(m, ql[3,2] == (v[3]^2)*Bbus[3,2] + v[3]*v[2]*(Gbus[3,2]*sin(θ[3]-θ[2]) -  Bbus[3,2]*cos(θ[3]-θ[2])));"
   ]
  },
  {
   "cell_type": "code",
   "execution_count": 11,
   "metadata": {},
   "outputs": [],
   "source": [
    "# Technical generation limits\n",
    "@constraint(m, Pmin[1] <= p[1] <= Pmax[1]);\n",
    "@constraint(m, Pmin[2] <= p[2] <= Pmax[2]);\n",
    "@constraint(m, Qmin[1] <= q[1] <= Qmax[1]);\n",
    "@constraint(m, Qmin[1] <= q[2] <= Qmax[2]);"
   ]
  },
  {
   "cell_type": "code",
   "execution_count": 12,
   "metadata": {},
   "outputs": [],
   "source": [
    "# Voltage limits\n",
    "@constraint(m, Vmin <= v[1] <= Vmax);\n",
    "@constraint(m, Vmin <= v[2] <= Vmax);\n",
    "@constraint(m, Vmin <= v[3] <= Vmax);\n",
    "\n",
    "# Angle limits\n",
    "@constraint(m,  θ[1] == 0);\n",
    "@constraint(m, -pi <= θ[2] <= pi);\n",
    "@constraint(m, -pi <= θ[3] <= pi);"
   ]
  },
  {
   "cell_type": "code",
   "execution_count": 13,
   "metadata": {},
   "outputs": [],
   "source": [
    "# Line capacity limits\n",
    "@NLconstraint(m,  (pl[1,2])^2 + (ql[1,2])^2 <= (SLmax[1])^2);\n",
    "@NLconstraint(m,  (pl[2,1])^2 + (ql[2,1])^2 <= (SLmax[1])^2);\n",
    "@NLconstraint(m,  (pl[1,3])^2 + (ql[1,3])^2 <= (SLmax[2])^2);\n",
    "@NLconstraint(m,  (pl[3,1])^2 + (ql[3,1])^2 <= (SLmax[2])^2);\n",
    "@NLconstraint(m,  (pl[2,3])^2 + (ql[2,3])^2 <= (SLmax[3])^2);\n",
    "@NLconstraint(m,  (pl[3,2])^2 + (ql[3,2])^2 <= (SLmax[3])^2);"
   ]
  },
  {
   "cell_type": "markdown",
   "metadata": {},
   "source": [
    "### Objective function"
   ]
  },
  {
   "cell_type": "code",
   "execution_count": 14,
   "metadata": {},
   "outputs": [
    {
     "data": {
      "text/latex": [
       "$$ 2 p_{1} + p_{2} $$"
      ],
      "text/plain": [
       "2 p[1] + p[2]"
      ]
     },
     "execution_count": 14,
     "metadata": {},
     "output_type": "execute_result"
    }
   ],
   "source": [
    "## Objective function\n",
    "@objective(m, Min, c[1]*p[1] + c[2]*p[2])"
   ]
  },
  {
   "cell_type": "code",
   "execution_count": 15,
   "metadata": {},
   "outputs": [
    {
     "name": "stdout",
     "output_type": "stream",
     "text": [
      "Min 2 p[1] + p[2]\n",
      "Subject to\n",
      " p[1] - pl[1,2] - pl[1,3] = 0\n",
      " p[2] - pl[2,1] - pl[2,3] = 0\n",
      " -pl[3,1] - pl[3,2] = 0.8\n",
      " q[1] - ql[1,2] - ql[1,3] = 0\n",
      " q[2] - ql[2,1] - ql[2,3] = 0\n",
      " -ql[3,1] - ql[3,2] = 0.6\n",
      " 0 ≤ p[1] ≤ 3\n",
      " 0 ≤ p[2] ≤ 0.8\n",
      " -2 ≤ q[1] ≤ 2\n",
      " -2 ≤ q[2] ≤ 2\n",
      " 0.95 ≤ v[1] ≤ 1.1\n",
      " 0.95 ≤ v[2] ≤ 1.1\n",
      " 0.95 ≤ v[3] ≤ 1.1\n",
      " θ[1] = 0\n",
      " -3.141592653589793 ≤ θ[2] ≤ 3.141592653589793\n",
      " -3.141592653589793 ≤ θ[3] ≤ 3.141592653589793\n",
      " pl[1,2] - (-(v[1] ^ 2.0) * -0.99009900990099 + v[1] * v[2] * (-0.99009900990099 * cos(θ[1] - θ[2]) + 9.900990099009901 * sin(θ[1] - θ[2]))) = 0\n",
      " pl[1,3] - (-(v[1] ^ 2.0) * -0.99009900990099 + v[1] * v[3] * (-0.99009900990099 * cos(θ[1] - θ[3]) + 9.900990099009901 * sin(θ[1] - θ[3]))) = 0\n",
      " pl[2,1] - (-(v[2] ^ 2.0) * -0.99009900990099 + v[2] * v[1] * (-0.99009900990099 * cos(θ[2] - θ[1]) + 9.900990099009901 * sin(θ[2] - θ[1]))) = 0\n",
      " pl[2,3] - (-(v[2] ^ 2.0) * -0.99009900990099 + v[2] * v[3] * (-0.99009900990099 * cos(θ[2] - θ[3]) + 9.900990099009901 * sin(θ[2] - θ[3]))) = 0\n",
      " pl[3,1] - (-(v[3] ^ 2.0) * -0.99009900990099 + v[3] * v[1] * (-0.99009900990099 * cos(θ[3] - θ[1]) + 9.900990099009901 * sin(θ[3] - θ[1]))) = 0\n",
      " pl[3,2] - (-(v[3] ^ 2.0) * -0.99009900990099 + v[3] * v[2] * (-0.99009900990099 * cos(θ[3] - θ[2]) + 9.900990099009901 * sin(θ[3] - θ[2]))) = 0\n",
      " ql[1,2] - (v[1] ^ 2.0 * 9.900990099009901 + v[1] * v[2] * (-0.99009900990099 * sin(θ[1] - θ[2]) - 9.900990099009901 * cos(θ[1] - θ[2]))) = 0\n",
      " ql[1,3] - (v[1] ^ 2.0 * 9.900990099009901 + v[1] * v[3] * (-0.99009900990099 * sin(θ[1] - θ[3]) - 9.900990099009901 * cos(θ[1] - θ[3]))) = 0\n",
      " ql[2,1] - (v[2] ^ 2.0 * 9.900990099009901 + v[2] * v[1] * (-0.99009900990099 * sin(θ[2] - θ[1]) - 9.900990099009901 * cos(θ[2] - θ[1]))) = 0\n",
      " ql[2,3] - (v[2] ^ 2.0 * 9.900990099009901 + v[2] * v[3] * (-0.99009900990099 * sin(θ[2] - θ[3]) - 9.900990099009901 * cos(θ[2] - θ[3]))) = 0\n",
      " ql[3,1] - (v[3] ^ 2.0 * 9.900990099009901 + v[3] * v[1] * (-0.99009900990099 * sin(θ[3] - θ[1]) - 9.900990099009901 * cos(θ[3] - θ[1]))) = 0\n",
      " ql[3,2] - (v[3] ^ 2.0 * 9.900990099009901 + v[3] * v[2] * (-0.99009900990099 * sin(θ[3] - θ[2]) - 9.900990099009901 * cos(θ[3] - θ[2]))) = 0\n",
      " (pl[1,2] ^ 2.0 + ql[1,2] ^ 2.0) - 0.25 ^ 2.0 ≤ 0\n",
      " (pl[2,1] ^ 2.0 + ql[2,1] ^ 2.0) - 0.25 ^ 2.0 ≤ 0\n",
      " (pl[1,3] ^ 2.0 + ql[1,3] ^ 2.0) - 2.0 ^ 2.0 ≤ 0\n",
      " (pl[3,1] ^ 2.0 + ql[3,1] ^ 2.0) - 2.0 ^ 2.0 ≤ 0\n",
      " (pl[2,3] ^ 2.0 + ql[2,3] ^ 2.0) - 2.0 ^ 2.0 ≤ 0\n",
      " (pl[3,2] ^ 2.0 + ql[3,2] ^ 2.0) - 2.0 ^ 2.0 ≤ 0\n",
      " p[i] ∀ i ∈ {1,2}\n",
      " q[i] ∀ i ∈ {1,2}\n",
      " pl[i,j] ∀ i ∈ {1,2,3}, j ∈ {1,2,3}\n",
      " ql[i,j] ∀ i ∈ {1,2,3}, j ∈ {1,2,3}\n",
      " v[i] ∀ i ∈ {1,2,3}\n",
      " θ[i] ∀ i ∈ {1,2,3}\n"
     ]
    }
   ],
   "source": [
    "# Print the model\n",
    "print(m)"
   ]
  },
  {
   "cell_type": "code",
   "execution_count": 17,
   "metadata": {},
   "outputs": [
    {
     "name": "stdout",
     "output_type": "stream",
     "text": [
      "This is Ipopt version 3.12.1, running with linear solver mumps.\n",
      "NOTE: Other linear solvers might be more efficient (see Ipopt documentation).\n",
      "\n",
      "Number of nonzeros in equality constraint Jacobian...:       77\n",
      "Number of nonzeros in inequality constraint Jacobian.:       21\n",
      "Number of nonzeros in Lagrangian Hessian.............:      132\n",
      "\n",
      "Total number of variables............................:       28\n",
      "                     variables with only lower bounds:        0\n",
      "                variables with lower and upper bounds:        0\n",
      "                     variables with only upper bounds:        0\n",
      "Total number of equality constraints.................:       19\n",
      "Total number of inequality constraints...............:       15\n",
      "        inequality constraints with only lower bounds:        0\n",
      "   inequality constraints with lower and upper bounds:        9\n",
      "        inequality constraints with only upper bounds:        6\n",
      "\n",
      "iter    objective    inf_pr   inf_du lg(mu)  ||d||  lg(rg) alpha_du alpha_pr  ls\n",
      "   0  8.3607869e-01 1.04e-13 1.34e-02  -1.0 0.00e+00    -  0.00e+00 0.00e+00   0\n",
      "   1  9.7288478e-01 1.38e-02 3.19e+00  -1.0 1.36e-01  -4.0 4.13e-01 1.00e+00f  1\n",
      "   2  1.0319749e+00 5.64e-03 3.72e-01  -1.0 6.02e-02  -4.5 1.00e+00 1.00e+00f  1\n",
      "   3  9.6713400e-01 1.68e-04 8.97e-02  -1.7 6.53e-02  -5.0 1.00e+00 1.00e+00h  1\n",
      "   4  8.3579524e-01 4.50e-04 1.69e-02  -2.5 1.32e-01  -5.4 1.00e+00 1.00e+00f  1\n",
      "   5  8.2896236e-01 2.82e-03 1.33e-01  -3.8 1.15e-02  -5.9 9.54e-01 6.46e-01h  1\n",
      "   6  8.3662447e-01 1.87e-04 5.21e-01  -3.8 4.37e-02  -6.4 7.05e-01 1.00e+00H  1\n",
      "   7  8.3651702e-01 3.09e-05 1.69e-03  -3.8 5.14e-03  -6.9 1.00e+00 1.00e+00h  1\n",
      "   8  8.3653118e-01 5.28e-09 2.07e-06  -3.8 1.96e-04  -7.3 1.00e+00 1.00e+00h  1\n",
      "   9  8.3611546e-01 1.48e-04 7.52e-03  -5.7 1.23e-02  -7.8 9.03e-01 8.82e-01f  1\n",
      "iter    objective    inf_pr   inf_du lg(mu)  ||d||  lg(rg) alpha_du alpha_pr  ls\n",
      "  10  8.3607908e-01 3.57e-05 3.08e-02  -5.7 2.50e-03  -8.3 1.00e+00 7.89e-01h  1\n",
      "  11  8.3608296e-01 2.46e-08 8.83e-06  -5.7 2.13e-04  -8.8 1.00e+00 1.00e+00f  1\n",
      "  12  8.3607873e-01 1.81e-08 1.79e-04  -8.6 1.24e-04  -9.2 1.00e+00 9.76e-01h  1\n",
      "  13  8.3607869e-01 9.90e-14 3.87e-10  -8.6 1.45e-06  -9.7 1.00e+00 1.00e+00f  1\n",
      "\n",
      "Number of Iterations....: 13\n",
      "\n",
      "                                   (scaled)                 (unscaled)\n",
      "Objective...............:   8.3607869456153494e-01    8.3607869456153494e-01\n",
      "Dual infeasibility......:   3.8653879402827940e-10    3.8653879402827940e-10\n",
      "Constraint violation....:   9.8969877432297793e-14    9.8969877432297793e-14\n",
      "Complementarity.........:   2.5092218632377439e-09    2.5092218632377439e-09\n",
      "Overall NLP error.......:   2.5092218632377439e-09    2.5092218632377439e-09\n",
      "\n",
      "\n",
      "Number of objective function evaluations             = 15\n",
      "Number of objective gradient evaluations             = 14\n",
      "Number of equality constraint evaluations            = 15\n",
      "Number of inequality constraint evaluations          = 15\n",
      "Number of equality constraint Jacobian evaluations   = 14\n",
      "Number of inequality constraint Jacobian evaluations = 14\n",
      "Number of Lagrangian Hessian evaluations             = 13\n",
      "Total CPU secs in IPOPT (w/o function evaluations)   =      0.008\n",
      "Total CPU secs in NLP function evaluations           =      0.008\n",
      "\n",
      "EXIT: Optimal Solution Found.\n"
     ]
    },
    {
     "data": {
      "text/plain": [
       ":Optimal"
      ]
     },
     "execution_count": 17,
     "metadata": {},
     "output_type": "execute_result"
    }
   ],
   "source": [
    "solve(m)\n"
   ]
  },
  {
   "cell_type": "code",
   "execution_count": 18,
   "metadata": {},
   "outputs": [
    {
     "data": {
      "text/plain": [
       "2-element Array{Float64,1}:\n",
       " 0.0309068\n",
       " 0.774265 "
      ]
     },
     "execution_count": 18,
     "metadata": {},
     "output_type": "execute_result"
    }
   ],
   "source": [
    "getvalue(p)"
   ]
  },
  {
   "cell_type": "code",
   "execution_count": 19,
   "metadata": {},
   "outputs": [
    {
     "data": {
      "text/plain": [
       "3-element Array{Float64,1}:\n",
       " 1.0977 \n",
       " 1.1    \n",
       " 1.06636"
      ]
     },
     "execution_count": 19,
     "metadata": {},
     "output_type": "execute_result"
    }
   ],
   "source": [
    "getvalue(v)"
   ]
  },
  {
   "cell_type": "code",
   "execution_count": 20,
   "metadata": {},
   "outputs": [
    {
     "data": {
      "text/plain": [
       "3×3 Array{Float64,2}:\n",
       "  0.0       -0.249467  0.280374\n",
       "  0.249983   0.0       0.524282\n",
       " -0.278879  -0.521121  0.0     "
      ]
     },
     "execution_count": 20,
     "metadata": {},
     "output_type": "execute_result"
    }
   ],
   "source": [
    "getvalue(pl)"
   ]
  },
  {
   "cell_type": "code",
   "execution_count": null,
   "metadata": {},
   "outputs": [],
   "source": []
  }
 ],
 "metadata": {
  "kernelspec": {
   "display_name": "Julia 0.6.2",
   "language": "julia",
   "name": "julia-0.6"
  },
  "language_info": {
   "file_extension": ".jl",
   "mimetype": "application/julia",
   "name": "julia",
   "version": "0.6.2"
  }
 },
 "nbformat": 4,
 "nbformat_minor": 2
}
