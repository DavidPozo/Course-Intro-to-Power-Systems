{
 "cells": [
  {
   "cell_type": "markdown",
   "metadata": {},
   "source": [
    "#  Course on Introduction to Power Systems\n",
    "Professor: David Pozo\n",
    "Skoltech, Feb-Mar 2018\n",
    "\n",
    "## Simple AC-OPF: 3-bus example\n"
   ]
  },
  {
   "cell_type": "code",
   "execution_count": 1,
   "metadata": {},
   "outputs": [],
   "source": [
    "using JuMP\n",
    "using Ipopt"
   ]
  },
  {
   "cell_type": "markdown",
   "metadata": {},
   "source": [
    "###  Data definition\n",
    "\n",
    "We define data fo our problem"
   ]
  },
  {
   "cell_type": "code",
   "execution_count": 2,
   "metadata": {},
   "outputs": [],
   "source": [
    "# Ybus\n",
    "zL = 0.01 + 0.1im;\n",
    "Ybus = ones(3,3)*(-1/zL);  # off-diagonal elements\n",
    "Ybus[1,1] = 2*(1/zL);  # diagonal elements\n",
    "Ybus[2,2] = 2*(1/zL);  # diagonal elements\n",
    "Ybus[3,3] = 2*(1/zL);  # diagonal elements\n",
    "\n",
    "Gbus = real(Ybus);\n",
    "Bbus = imag(Ybus);"
   ]
  },
  {
   "cell_type": "code",
   "execution_count": 3,
   "metadata": {},
   "outputs": [],
   "source": [
    "# Generator limits\n",
    "Pmin = [0,0];\n",
    "Pmax = [3, 0.8];\n",
    "Qmin = [-2, -2];\n",
    "Qmax = [2, 2];\n",
    "\n",
    "# Generation costs\n",
    "c = [2,1];"
   ]
  },
  {
   "cell_type": "code",
   "execution_count": 4,
   "metadata": {},
   "outputs": [],
   "source": [
    "# Line limits\n",
    "SLmax = [0.25, 2, 2];\n"
   ]
  },
  {
   "cell_type": "code",
   "execution_count": 5,
   "metadata": {},
   "outputs": [],
   "source": [
    "# Voltage limits\n",
    "Vmin = 0.95;\n",
    "Vmax = 1.10;"
   ]
  },
  {
   "cell_type": "code",
   "execution_count": 6,
   "metadata": {},
   "outputs": [],
   "source": [
    "# Demand\n",
    "Pd = 0.8;\n",
    "Qd = 0.6;"
   ]
  },
  {
   "cell_type": "markdown",
   "metadata": {},
   "source": [
    "### Model definition\n",
    "\n",
    "Firstly, we create a model \"m\" that will gather the main information (decision variables, constraints and objective) of the presented AC-OPF formulation."
   ]
  },
  {
   "cell_type": "code",
   "execution_count": 7,
   "metadata": {},
   "outputs": [],
   "source": [
    "m = Model(solver = IpoptSolver());"
   ]
  },
  {
   "cell_type": "code",
   "execution_count": 8,
   "metadata": {},
   "outputs": [],
   "source": [
    "@variable(m, p[1:2]);\n",
    "@variable(m, q[1:2]);\n",
    "@variable(m, pl[1:3,1:3]);\n",
    "@variable(m, ql[1:3,1:3]);\n",
    "@variable(m, v[1:3]);\n",
    "@variable(m, θ[1:3]);"
   ]
  },
  {
   "cell_type": "code",
   "execution_count": 9,
   "metadata": {},
   "outputs": [],
   "source": [
    "# Nodal balance equation\n",
    "@constraint(m, p[1]  == pl[1,2] + pl[1,3]);\n",
    "@constraint(m, p[2]  == pl[2,1] + pl[2,3]);\n",
    "@constraint(m, - Pd  == pl[3,1] + pl[3,2]);\n",
    "\n",
    "@constraint(m, q[1]  == ql[1,2] + ql[1,3]);\n",
    "@constraint(m, q[2]  == ql[2,1] + ql[2,3]);\n",
    "@constraint(m, - Qd  == ql[3,1] + ql[3,2]);"
   ]
  },
  {
   "cell_type": "code",
   "execution_count": 10,
   "metadata": {},
   "outputs": [],
   "source": [
    "# Branch power flow definition\n",
    "@NLconstraint(m, pl[1,2] == -(v[1]^2)*Gbus[1,2] + v[1]*v[2]*(Gbus[1,2]*cos(θ[1]-θ[2]) +  Bbus[1,2]*sin(θ[1]-θ[2])));\n",
    "@NLconstraint(m, pl[1,3] == -(v[1]^2)*Gbus[1,3] + v[1]*v[3]*(Gbus[1,3]*cos(θ[1]-θ[3]) +  Bbus[1,3]*sin(θ[1]-θ[3])));\n",
    "@NLconstraint(m, pl[2,1] == -(v[2]^2)*Gbus[2,1] + v[2]*v[1]*(Gbus[2,1]*cos(θ[2]-θ[1]) +  Bbus[2,1]*sin(θ[2]-θ[1])));\n",
    "@NLconstraint(m, pl[2,3] == -(v[2]^2)*Gbus[2,3] + v[2]*v[3]*(Gbus[2,3]*cos(θ[2]-θ[3]) +  Bbus[2,3]*sin(θ[2]-θ[3])));\n",
    "@NLconstraint(m, pl[3,1] == -(v[3]^2)*Gbus[3,1] + v[3]*v[1]*(Gbus[3,1]*cos(θ[3]-θ[1]) +  Bbus[3,1]*sin(θ[3]-θ[1])));\n",
    "@NLconstraint(m, pl[3,2] == -(v[3]^2)*Gbus[3,2] + v[3]*v[2]*(Gbus[3,2]*cos(θ[3]-θ[2]) +  Bbus[3,2]*sin(θ[3]-θ[2])));\n",
    "\n",
    "@NLconstraint(m, ql[1,2] == (v[1]^2)*Bbus[1,2] + v[1]*v[2]*(Gbus[1,2]*sin(θ[1]-θ[2]) -  Bbus[1,2]*cos(θ[1]-θ[2])));\n",
    "@NLconstraint(m, ql[1,3] == (v[1]^2)*Bbus[1,3] + v[1]*v[3]*(Gbus[1,3]*sin(θ[1]-θ[3]) -  Bbus[1,3]*cos(θ[1]-θ[3])));\n",
    "@NLconstraint(m, ql[2,1] == (v[2]^2)*Bbus[2,1] + v[2]*v[1]*(Gbus[2,1]*sin(θ[2]-θ[1]) -  Bbus[2,1]*cos(θ[2]-θ[1])));\n",
    "@NLconstraint(m, ql[2,3] == (v[2]^2)*Bbus[2,3] + v[2]*v[3]*(Gbus[2,3]*sin(θ[2]-θ[3]) -  Bbus[2,3]*cos(θ[2]-θ[3])));\n",
    "@NLconstraint(m, ql[3,1] == (v[3]^2)*Bbus[3,1] + v[3]*v[1]*(Gbus[3,1]*sin(θ[3]-θ[1]) -  Bbus[3,1]*cos(θ[3]-θ[1])));\n",
    "@NLconstraint(m, ql[3,2] == (v[3]^2)*Bbus[3,2] + v[3]*v[2]*(Gbus[3,2]*sin(θ[3]-θ[2]) -  Bbus[3,2]*cos(θ[3]-θ[2])));"
   ]
  },
  {
   "cell_type": "code",
   "execution_count": 11,
   "metadata": {},
   "outputs": [],
   "source": [
    "# Technical generation limits\n",
    "@constraint(m, Pmin[1] <= p[1] <= Pmax[1]);\n",
    "@constraint(m, Pmin[2] <= p[2] <= Pmax[2]);\n",
    "@constraint(m, Qmin[1] <= q[1] <= Qmax[1]);\n",
    "@constraint(m, Qmin[1] <= q[2] <= Qmax[2]);"
   ]
  },
  {
   "cell_type": "code",
   "execution_count": 12,
   "metadata": {},
   "outputs": [],
   "source": [
    "# Voltage limits\n",
    "@constraint(m, Vmin <= v[1] <= Vmax);\n",
    "@constraint(m, Vmin <= v[2] <= Vmax);\n",
    "@constraint(m, Vmin <= v[3] <= Vmax);\n",
    "\n",
    "# Angle limits\n",
    "@constraint(m,  θ[1] == 0);\n",
    "@constraint(m, -pi <= θ[2] <= pi);\n",
    "@constraint(m, -pi <= θ[3] <= pi);"
   ]
  },
  {
   "cell_type": "code",
   "execution_count": 13,
   "metadata": {},
   "outputs": [],
   "source": [
    "# Line capacity limits\n",
    "@NLconstraint(m,  (pl[1,2])^2 + (ql[1,2])^2 <= (SLmax[1])^2);\n",
    "@NLconstraint(m,  (pl[2,1])^2 + (ql[2,1])^2 <= (SLmax[1])^2);\n",
    "@NLconstraint(m,  (pl[1,3])^2 + (ql[1,3])^2 <= (SLmax[2])^2);\n",
    "@NLconstraint(m,  (pl[3,1])^2 + (ql[3,1])^2 <= (SLmax[2])^2);\n",
    "@NLconstraint(m,  (pl[2,3])^2 + (ql[2,3])^2 <= (SLmax[3])^2);\n",
    "@NLconstraint(m,  (pl[3,2])^2 + (ql[3,2])^2 <= (SLmax[3])^2);"
   ]
  },
  {
   "cell_type": "markdown",
   "metadata": {},
   "source": [
    "### Objective function"
   ]
  },
  {
   "cell_type": "code",
   "execution_count": 14,
   "metadata": {},
   "outputs": [],
   "source": [
    "## Objective function\n",
    "@objective(m, Min, c[1]*p[1] + c[2]*p[2]);"
   ]
  },
  {
   "cell_type": "code",
   "execution_count": 15,
   "metadata": {},
   "outputs": [
    {
     "name": "stdout",
     "output_type": "stream",
     "text": [
      "Min 2 p[1] + p[2]\n",
      "Subject to\n",
      " p[1] - pl[1,2] - pl[1,3] = 0\n",
      " p[2] - pl[2,1] - pl[2,3] = 0\n",
      " -pl[3,1] - pl[3,2] = 0.8\n",
      " q[1] - ql[1,2] - ql[1,3] = 0\n",
      " q[2] - ql[2,1] - ql[2,3] = 0\n",
      " -ql[3,1] - ql[3,2] = 0.6\n",
      " 0 ≤ p[1] ≤ 3\n",
      " 0 ≤ p[2] ≤ 0.8\n",
      " -2 ≤ q[1] ≤ 2\n",
      " -2 ≤ q[2] ≤ 2\n",
      " 0.95 ≤ v[1] ≤ 1.1\n",
      " 0.95 ≤ v[2] ≤ 1.1\n",
      " 0.95 ≤ v[3] ≤ 1.1\n",
      " θ[1] = 0\n",
      " -3.141592653589793 ≤ θ[2] ≤ 3.141592653589793\n",
      " -3.141592653589793 ≤ θ[3] ≤ 3.141592653589793\n",
      " pl[1,2] - (-(v[1] ^ 2.0) * -0.99009900990099 + v[1] * v[2] * (-0.99009900990099 * cos(θ[1] - θ[2]) + 9.900990099009901 * sin(θ[1] - θ[2]))) = 0\n",
      " pl[1,3] - (-(v[1] ^ 2.0) * -0.99009900990099 + v[1] * v[3] * (-0.99009900990099 * cos(θ[1] - θ[3]) + 9.900990099009901 * sin(θ[1] - θ[3]))) = 0\n",
      " pl[2,1] - (-(v[2] ^ 2.0) * -0.99009900990099 + v[2] * v[1] * (-0.99009900990099 * cos(θ[2] - θ[1]) + 9.900990099009901 * sin(θ[2] - θ[1]))) = 0\n",
      " pl[2,3] - (-(v[2] ^ 2.0) * -0.99009900990099 + v[2] * v[3] * (-0.99009900990099 * cos(θ[2] - θ[3]) + 9.900990099009901 * sin(θ[2] - θ[3]))) = 0\n",
      " pl[3,1] - (-(v[3] ^ 2.0) * -0.99009900990099 + v[3] * v[1] * (-0.99009900990099 * cos(θ[3] - θ[1]) + 9.900990099009901 * sin(θ[3] - θ[1]))) = 0\n",
      " pl[3,2] - (-(v[3] ^ 2.0) * -0.99009900990099 + v[3] * v[2] * (-0.99009900990099 * cos(θ[3] - θ[2]) + 9.900990099009901 * sin(θ[3] - θ[2]))) = 0\n",
      " ql[1,2] - (v[1] ^ 2.0 * 9.900990099009901 + v[1] * v[2] * (-0.99009900990099 * sin(θ[1] - θ[2]) - 9.900990099009901 * cos(θ[1] - θ[2]))) = 0\n",
      " ql[1,3] - (v[1] ^ 2.0 * 9.900990099009901 + v[1] * v[3] * (-0.99009900990099 * sin(θ[1] - θ[3]) - 9.900990099009901 * cos(θ[1] - θ[3]))) = 0\n",
      " ql[2,1] - (v[2] ^ 2.0 * 9.900990099009901 + v[2] * v[1] * (-0.99009900990099 * sin(θ[2] - θ[1]) - 9.900990099009901 * cos(θ[2] - θ[1]))) = 0\n",
      " ql[2,3] - (v[2] ^ 2.0 * 9.900990099009901 + v[2] * v[3] * (-0.99009900990099 * sin(θ[2] - θ[3]) - 9.900990099009901 * cos(θ[2] - θ[3]))) = 0\n",
      " ql[3,1] - (v[3] ^ 2.0 * 9.900990099009901 + v[3] * v[1] * (-0.99009900990099 * sin(θ[3] - θ[1]) - 9.900990099009901 * cos(θ[3] - θ[1]))) = 0\n",
      " ql[3,2] - (v[3] ^ 2.0 * 9.900990099009901 + v[3] * v[2] * (-0.99009900990099 * sin(θ[3] - θ[2]) - 9.900990099009901 * cos(θ[3] - θ[2]))) = 0\n",
      " (pl[1,2] ^ 2.0 + ql[1,2] ^ 2.0) - 0.25 ^ 2.0 ≤ 0\n",
      " (pl[2,1] ^ 2.0 + ql[2,1] ^ 2.0) - 0.25 ^ 2.0 ≤ 0\n",
      " (pl[1,3] ^ 2.0 + ql[1,3] ^ 2.0) - 2.0 ^ 2.0 ≤ 0\n",
      " (pl[3,1] ^ 2.0 + ql[3,1] ^ 2.0) - 2.0 ^ 2.0 ≤ 0\n",
      " (pl[2,3] ^ 2.0 + ql[2,3] ^ 2.0) - 2.0 ^ 2.0 ≤ 0\n",
      " (pl[3,2] ^ 2.0 + ql[3,2] ^ 2.0) - 2.0 ^ 2.0 ≤ 0\n",
      " p[i] ∀ i ∈ {1,2}\n",
      " q[i] ∀ i ∈ {1,2}\n",
      " pl[i,j] ∀ i ∈ {1,2,3}, j ∈ {1,2,3}\n",
      " ql[i,j] ∀ i ∈ {1,2,3}, j ∈ {1,2,3}\n",
      " v[i] ∀ i ∈ {1,2,3}\n",
      " θ[i] ∀ i ∈ {1,2,3}\n"
     ]
    }
   ],
   "source": [
    "# Print the model\n",
    "print(m)"
   ]
  },
  {
   "cell_type": "code",
   "execution_count": 16,
   "metadata": {},
   "outputs": [
    {
     "name": "stdout",
     "output_type": "stream",
     "text": [
      "\n",
      "******************************************************************************\n",
      "This program contains Ipopt, a library for large-scale nonlinear optimization.\n",
      " Ipopt is released as open source code under the Eclipse Public License (EPL).\n",
      "         For more information visit http://projects.coin-or.org/Ipopt\n",
      "******************************************************************************\n",
      "\n",
      "This is Ipopt version 3.12.1, running with linear solver mumps.\n",
      "NOTE: Other linear solvers might be more efficient (see Ipopt documentation).\n",
      "\n",
      "Number of nonzeros in equality constraint Jacobian...:       77\n",
      "Number of nonzeros in inequality constraint Jacobian.:       21\n",
      "Number of nonzeros in Lagrangian Hessian.............:      132\n",
      "\n",
      "Total number of variables............................:       28\n",
      "                     variables with only lower bounds:        0\n",
      "                variables with lower and upper bounds:        0\n",
      "                     variables with only upper bounds:        0\n",
      "Total number of equality constraints.................:       19\n",
      "Total number of inequality constraints...............:       15\n",
      "        inequality constraints with only lower bounds:        0\n",
      "   inequality constraints with lower and upper bounds:        9\n",
      "        inequality constraints with only upper bounds:        6\n",
      "\n",
      "iter    objective    inf_pr   inf_du lg(mu)  ||d||  lg(rg) alpha_du alpha_pr  ls\n",
      "   0  0.0000000e+00 9.50e-01 2.00e+00  -1.0 0.00e+00    -  0.00e+00 0.00e+00   0\n",
      "   1  5.0646597e-07 2.72e-01 9.28e+08  -1.0 1.05e+00  -2.0 1.00e+00 9.90e-01f  1\n",
      "   2  2.9573299e-03 2.71e-01 9.19e+08  -1.0 2.08e+01   5.8 2.05e-04 2.45e-03h  1\n",
      "   3  2.9726885e-03 2.71e-01 9.19e+08  -1.0 3.97e+01   5.4 3.08e-03 1.28e-05h  1\n",
      "   4r 2.9726885e-03 2.71e-01 9.99e+02  -0.6 0.00e+00   4.9 0.00e+00 2.87e-07R  6\n",
      "   5r 2.8726685e-01 2.22e-01 9.97e+02  -0.6 7.19e+01    -  2.57e-05 2.48e-03f  1\n",
      "   6  1.2636887e+00 3.93e-02 1.60e+04  -1.0 3.29e-01   4.4 4.85e-02 1.00e+00f  1\n",
      "   7  1.2669167e+00 2.20e-04 2.06e+03  -1.0 1.36e-01   3.9 1.00e+00 1.00e+00h  1\n",
      "   8  1.2668965e+00 1.02e-08 9.47e-01  -1.0 3.02e-04   3.5 1.00e+00 1.00e+00h  1\n",
      "   9  1.2667078e+00 3.87e-09 1.81e-01  -1.7 1.89e-04   3.0 1.00e+00 1.00e+00h  1\n",
      "iter    objective    inf_pr   inf_du lg(mu)  ||d||  lg(rg) alpha_du alpha_pr  ls\n",
      "  10  1.2661481e+00 6.57e-09 1.79e-01  -2.5 5.59e-04   2.5 1.00e+00 1.00e+00f  1\n",
      "  11  1.2644684e+00 5.92e-08 1.79e-01  -2.5 1.68e-03   2.0 1.00e+00 1.00e+00f  1\n",
      "  12  1.2594330e+00 5.32e-07 1.79e-01  -2.5 5.03e-03   1.6 1.00e+00 1.00e+00f  1\n",
      "  13  1.2443586e+00 4.77e-06 1.78e-01  -2.5 1.51e-02   1.1 1.00e+00 1.00e+00f  1\n",
      "  14  1.1994213e+00 4.24e-05 1.77e-01  -2.5 4.49e-02   0.6 1.00e+00 1.00e+00f  1\n",
      "  15  1.0673396e+00 3.66e-04 1.74e-01  -2.5 1.32e-01   0.1 1.00e+00 1.00e+00f  1\n",
      "  16  8.1166413e-01 8.87e-03 1.63e-01  -2.5 3.60e-01  -0.4 1.00e+00 7.13e-01f  1\n",
      "  17  9.0061826e-01 1.82e-04 1.30e-02  -2.5 8.90e-02  -0.8 1.00e+00 1.00e+00h  1\n",
      "  18  8.3189083e-01 1.85e-03 9.00e-03  -2.5 6.93e-02  -1.3 1.00e+00 1.00e+00h  1\n",
      "  19  8.3190268e-01 1.84e-03 1.27e+00  -3.8 1.31e-02  -1.8 9.48e-01 1.67e-01h  1\n",
      "iter    objective    inf_pr   inf_du lg(mu)  ||d||  lg(rg) alpha_du alpha_pr  ls\n",
      "  20  8.3660645e-01 1.85e-04 6.44e-02  -3.8 4.33e-02  -2.3 9.20e-01 1.00e+00H  1\n",
      "  21  8.3651567e-01 8.25e-07 5.18e-04  -3.8 3.59e-03  -2.7 1.00e+00 1.00e+00h  1\n",
      "  22  8.3611412e-01 1.48e-04 7.57e-03  -5.7 1.23e-02  -3.2 9.04e-01 8.82e-01h  1\n",
      "  23  8.3607867e-01 3.57e-05 3.09e-02  -5.7 2.54e-03  -3.7 1.00e+00 7.89e-01h  1\n",
      "  24  8.3608297e-01 2.46e-08 8.89e-06  -5.7 2.14e-04  -4.2 1.00e+00 1.00e+00f  1\n",
      "  25  8.3607873e-01 1.82e-08 1.78e-04  -8.6 1.24e-04  -4.7 1.00e+00 9.76e-01h  1\n",
      "  26  8.3607869e-01 1.04e-13 3.79e-10  -8.6 1.45e-06  -5.1 1.00e+00 1.00e+00f  1\n",
      "\n",
      "Number of Iterations....: 26\n",
      "\n",
      "                                   (scaled)                 (unscaled)\n",
      "Objective...............:   8.3607869456154071e-01    8.3607869456154071e-01\n",
      "Dual infeasibility......:   3.7929622383130315e-10    3.7929622383130315e-10\n",
      "Constraint violation....:   1.0397628938396686e-13    1.0397628938396686e-13\n",
      "Complementarity.........:   2.5092198903157504e-09    2.5092198903157504e-09\n",
      "Overall NLP error.......:   2.5092198903157504e-09    2.5092198903157504e-09\n",
      "\n",
      "\n",
      "Number of objective function evaluations             = 34\n",
      "Number of objective gradient evaluations             = 27\n",
      "Number of equality constraint evaluations            = 34\n",
      "Number of inequality constraint evaluations          = 34\n",
      "Number of equality constraint Jacobian evaluations   = 28\n",
      "Number of inequality constraint Jacobian evaluations = 28\n",
      "Number of Lagrangian Hessian evaluations             = 26\n",
      "Total CPU secs in IPOPT (w/o function evaluations)   =      0.192\n",
      "Total CPU secs in NLP function evaluations           =      0.064\n",
      "\n",
      "EXIT: Optimal Solution Found.\n"
     ]
    },
    {
     "data": {
      "text/plain": [
       ":Optimal"
      ]
     },
     "execution_count": 16,
     "metadata": {},
     "output_type": "execute_result"
    }
   ],
   "source": [
    "solve(m)\n"
   ]
  },
  {
   "cell_type": "code",
   "execution_count": 17,
   "metadata": {},
   "outputs": [
    {
     "data": {
      "text/plain": [
       "2-element Array{Float64,1}:\n",
       " 0.0309068\n",
       " 0.774265 "
      ]
     },
     "execution_count": 17,
     "metadata": {},
     "output_type": "execute_result"
    }
   ],
   "source": [
    "getvalue(p)"
   ]
  },
  {
   "cell_type": "code",
   "execution_count": 18,
   "metadata": {},
   "outputs": [
    {
     "data": {
      "text/plain": [
       "3-element Array{Float64,1}:\n",
       " 1.0977 \n",
       " 1.1    \n",
       " 1.06636"
      ]
     },
     "execution_count": 18,
     "metadata": {},
     "output_type": "execute_result"
    }
   ],
   "source": [
    "getvalue(v)"
   ]
  },
  {
   "cell_type": "code",
   "execution_count": 19,
   "metadata": {},
   "outputs": [
    {
     "data": {
      "text/plain": [
       "3×3 Array{Float64,2}:\n",
       "  0.0       -0.249467  0.280374\n",
       "  0.249983   0.0       0.524282\n",
       " -0.278879  -0.521121  0.0     "
      ]
     },
     "execution_count": 19,
     "metadata": {},
     "output_type": "execute_result"
    }
   ],
   "source": [
    "getvalue(pl)"
   ]
  },
  {
   "cell_type": "code",
   "execution_count": null,
   "metadata": {},
   "outputs": [],
   "source": []
  }
 ],
 "metadata": {
  "kernelspec": {
   "display_name": "Julia 0.6.2",
   "language": "julia",
   "name": "julia-0.6"
  },
  "language_info": {
   "file_extension": ".jl",
   "mimetype": "application/julia",
   "name": "julia",
   "version": "0.6.2"
  }
 },
 "nbformat": 4,
 "nbformat_minor": 2
}
