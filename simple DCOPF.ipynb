{
 "cells": [
  {
   "cell_type": "markdown",
   "metadata": {},
   "source": [
    "#  Course on Introduction to Power Systems\n",
    "Professor: David Pozo\n",
    "Skoltech, Feb-Mar 2018\n",
    "\n",
    "## Simple DC-OPF: 3-bus example"
   ]
  },
  {
   "cell_type": "code",
   "execution_count": 1,
   "metadata": {},
   "outputs": [],
   "source": [
    "using JuMP\n",
    "using GLPKMathProgInterface"
   ]
  },
  {
   "cell_type": "code",
   "execution_count": 2,
   "metadata": {},
   "outputs": [],
   "source": [
    "###  Data definition\n",
    "# Ybus\n",
    "X = [0.1, 0.1, 0.1];\n",
    "\n",
    "# Generator limits\n",
    "Pmin = [0, 0, 0];\n",
    "Pmax = [3, 0.8, 0];\n",
    "\n",
    "# Line limits\n",
    "PLmax = [0.25, 2, 2];\n",
    "\n",
    "# Voltage limits\n",
    "Vmin = 0.95;\n",
    "Vmax = 1.10;\n",
    "\n",
    "# Demand\n",
    "Pd = [0 0 0.8];\n",
    "\n",
    "# Generation costs\n",
    "c = [2,1, 0];\n",
    "\n",
    "# Incidence Matrix [I x L]\n",
    "A =[1   1   0\n",
    "    -1  0   1\n",
    "    0   -1  -1];"
   ]
  },
  {
   "cell_type": "code",
   "execution_count": 3,
   "metadata": {},
   "outputs": [
    {
     "name": "stdout",
     "output_type": "stream",
     "text": [
      "Min 2 p[1] + p[2]\n",
      "Subject to\n",
      " p[1] - pl[1] - pl[2] = 0\n",
      " p[2] + pl[1] - pl[3] = 0\n",
      " p[3] + pl[2] + pl[3] = 0.8\n",
      " pl[1] - 10 θ[1] + 10 θ[2] = 0\n",
      " pl[2] - 10 θ[1] + 10 θ[3] = 0\n",
      " pl[3] - 10 θ[2] + 10 θ[3] = 0\n",
      " -0.25 ≤ pl[1] ≤ 0.25\n",
      " -2 ≤ pl[2] ≤ 2\n",
      " -2 ≤ pl[3] ≤ 2\n",
      " 0 ≤ p[1] ≤ 3\n",
      " 0 ≤ p[2] ≤ 0.8\n",
      " p[3] = 0\n",
      " 0.95 ≤ v[1] ≤ 1.1\n",
      " 0.95 ≤ v[2] ≤ 1.1\n",
      " 0.95 ≤ v[3] ≤ 1.1\n",
      " θ[1] = 0\n",
      " -1.5707963267948966 ≤ θ[2] ≤ 1.5707963267948966\n",
      " -1.5707963267948966 ≤ θ[3] ≤ 1.5707963267948966\n",
      " p[i] ∀ i ∈ {1,2,3}\n",
      " pl[l] ∀ l ∈ {1,2,3}\n",
      " v[i] ∀ i ∈ {1,2,3}\n",
      " θ[i] ∀ i ∈ {1,2,3}\n"
     ]
    }
   ],
   "source": [
    "## Model definition\n",
    "m = Model(solver=GLPKSolverLP())\n",
    "\n",
    "@variable(m, p[i=1:3])\n",
    "@variable(m, pl[l=1:3])\n",
    "@variable(m, v[i=1:3])\n",
    "@variable(m, θ[i=1:3])\n",
    "\n",
    "\n",
    "# Nodal balance equation\n",
    "@constraint(m, BalanceEq[i=1:3], p[i] - Pd[i] == sum(A[i,l]*pl[l] for l=1:3));\n",
    "\n",
    "# Branch power flow\n",
    "@constraint(m, FlowDefi[l=1:3], pl[l] == (1/X[l])*(sum(A[i,l]*θ[i] for i=1:3)));\n",
    "\n",
    "# Line limits\n",
    "@constraint(m, FlowLimits[l=1:3],  -PLmax[l] <= pl[l] <= PLmax[l]);\n",
    "\n",
    "# Technical generation limits\n",
    "@constraint(m, GenLimits[i=1:3], Pmin[i] <= p[i] <= Pmax[i]);\n",
    "\n",
    "# Voltage limits\n",
    "@constraint(m, VoltageLimits[i=1:3], Vmin <= v[i] <= Vmax);\n",
    "\n",
    "# Angle limits\n",
    "@constraint(m,  θ[1] == 0);\n",
    "@constraint(m, limitAngle[i=2:3], -pi/2 <= θ[i] <= pi/2);\n",
    "\n",
    "## Objective function\n",
    "@objective(m, Min, sum(c[i]*p[i] for i=1:3))\n",
    "\n",
    "\n",
    "# Print the model\n",
    "print(m)\n"
   ]
  },
  {
   "cell_type": "code",
   "execution_count": 4,
   "metadata": {},
   "outputs": [
    {
     "data": {
      "text/plain": [
       ":Optimal"
      ]
     },
     "execution_count": 4,
     "metadata": {},
     "output_type": "execute_result"
    }
   ],
   "source": [
    "## resolution\n",
    "solve(m)"
   ]
  },
  {
   "cell_type": "code",
   "execution_count": 5,
   "metadata": {},
   "outputs": [
    {
     "data": {
      "text/plain": [
       "3-element Array{Float64,1}:\n",
       " 0.025\n",
       " 0.775\n",
       " 0.0  "
      ]
     },
     "execution_count": 5,
     "metadata": {},
     "output_type": "execute_result"
    }
   ],
   "source": [
    "getvalue(p)"
   ]
  },
  {
   "cell_type": "code",
   "execution_count": 6,
   "metadata": {},
   "outputs": [
    {
     "data": {
      "text/plain": [
       "3-element Array{Float64,1}:\n",
       " 2.0\n",
       " 1.0\n",
       " 1.5"
      ]
     },
     "execution_count": 6,
     "metadata": {},
     "output_type": "execute_result"
    }
   ],
   "source": [
    "# Locational Marginal Prices (LMP) from dual variables of the Balance Equation\n",
    "getdual(BalanceEq)"
   ]
  },
  {
   "cell_type": "code",
   "execution_count": 7,
   "metadata": {},
   "outputs": [
    {
     "data": {
      "text/plain": [
       "3-element Array{Float64,1}:\n",
       " -0.25 \n",
       "  0.275\n",
       "  0.525"
      ]
     },
     "execution_count": 7,
     "metadata": {},
     "output_type": "execute_result"
    }
   ],
   "source": [
    "getvalue(pl)"
   ]
  },
  {
   "cell_type": "code",
   "execution_count": null,
   "metadata": {},
   "outputs": [],
   "source": []
  }
 ],
 "metadata": {
  "kernelspec": {
   "display_name": "Julia 0.6.2",
   "language": "julia",
   "name": "julia-0.6"
  },
  "language_info": {
   "file_extension": ".jl",
   "mimetype": "application/julia",
   "name": "julia",
   "version": "0.6.2"
  }
 },
 "nbformat": 4,
 "nbformat_minor": 2
}
